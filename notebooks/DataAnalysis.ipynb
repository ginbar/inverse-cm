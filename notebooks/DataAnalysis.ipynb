{
 "cells": [
  {
   "cell_type": "code",
   "execution_count": 3,
   "id": "705b59d1-ce1e-4891-8078-de6eb61257ac",
   "metadata": {},
   "outputs": [],
   "source": [
    "import pandas as pd\n",
    "from datetime import datetime"
   ]
  },
  {
   "cell_type": "code",
   "execution_count": null,
   "id": "b9be748e",
   "metadata": {},
   "outputs": [],
   "source": [
    "\n",
    "df = pd.read_csv(\"data/SG-ES.csv\", encoding=\"latin-1\", sep=\",\")\n",
    "\n",
    "# Discarding non recovery/death outcomes\n",
    "df = df[df[\"Evolucao\"].isin([\"Cura\", \"Óbito pelo COVID-19\"])]\n",
    "\n",
    "# Translating column names\n",
    "df[\"NotificationDate\"] = df[\"DataNotificacao\"]\n",
    "df[\"DeathDate\"] = df[\"DataObito\"]\n",
    "df[\"RecoveryDate\"] = df.apply(lambda row: row[\"DataEncerramento\"] if row[\"Evolucao\"] == \"Cura\" else None, axis=1)\n",
    "\n",
    "# Converting to datetime\n",
    "df[\"NotificationDate\"] = pd.to_datetime(df[\"NotificationDate\"], format='%Y-%m-%d')\n",
    "df[\"DeathDate\"] = pd.to_datetime(df[\"DeathDate\"], format='%Y-%m-%d')\n",
    "df[\"RecoveryDate\"] = pd.to_datetime(df[\"RecoveryDate\"], format='%Y-%m-%d')\n",
    "\n",
    "# Discarding inconsistent entries\n",
    "df = df[df[\"RecoveryDate\"] >= df[\"NotificationDate\"]]\n"
   ]
  },
  {
   "cell_type": "code",
   "execution_count": 5,
   "id": "00e39586-384f-4027-99bf-34e6f18b6def",
   "metadata": {},
   "outputs": [
    {
     "name": "stderr",
     "output_type": "stream",
     "text": [
      "/tmp/ipykernel_360155/227377149.py:22: DtypeWarning: Columns (5,6) have mixed types. Specify dtype option on import or set low_memory=False.\n",
      "  for chunk in pd.read_csv(input_file, parse_dates=[time_column], chunksize=chunksize, encoding=\"latin-1\", sep=\";\"):\n",
      "/tmp/ipykernel_360155/227377149.py:22: DtypeWarning: Columns (8) have mixed types. Specify dtype option on import or set low_memory=False.\n",
      "  for chunk in pd.read_csv(input_file, parse_dates=[time_column], chunksize=chunksize, encoding=\"latin-1\", sep=\";\"):\n",
      "/tmp/ipykernel_360155/227377149.py:22: DtypeWarning: Columns (5,6) have mixed types. Specify dtype option on import or set low_memory=False.\n",
      "  for chunk in pd.read_csv(input_file, parse_dates=[time_column], chunksize=chunksize, encoding=\"latin-1\", sep=\";\"):\n",
      "/tmp/ipykernel_360155/227377149.py:22: DtypeWarning: Columns (5,6,8) have mixed types. Specify dtype option on import or set low_memory=False.\n",
      "  for chunk in pd.read_csv(input_file, parse_dates=[time_column], chunksize=chunksize, encoding=\"latin-1\", sep=\";\"):\n",
      "/tmp/ipykernel_360155/227377149.py:22: DtypeWarning: Columns (6) have mixed types. Specify dtype option on import or set low_memory=False.\n",
      "  for chunk in pd.read_csv(input_file, parse_dates=[time_column], chunksize=chunksize, encoding=\"latin-1\", sep=\";\"):\n",
      "/tmp/ipykernel_360155/227377149.py:22: DtypeWarning: Columns (5,6) have mixed types. Specify dtype option on import or set low_memory=False.\n",
      "  for chunk in pd.read_csv(input_file, parse_dates=[time_column], chunksize=chunksize, encoding=\"latin-1\", sep=\";\"):\n",
      "/tmp/ipykernel_360155/227377149.py:22: DtypeWarning: Columns (6) have mixed types. Specify dtype option on import or set low_memory=False.\n",
      "  for chunk in pd.read_csv(input_file, parse_dates=[time_column], chunksize=chunksize, encoding=\"latin-1\", sep=\";\"):\n",
      "/tmp/ipykernel_360155/227377149.py:22: DtypeWarning: Columns (5,6,8) have mixed types. Specify dtype option on import or set low_memory=False.\n",
      "  for chunk in pd.read_csv(input_file, parse_dates=[time_column], chunksize=chunksize, encoding=\"latin-1\", sep=\";\"):\n",
      "/tmp/ipykernel_360155/227377149.py:22: DtypeWarning: Columns (6) have mixed types. Specify dtype option on import or set low_memory=False.\n",
      "  for chunk in pd.read_csv(input_file, parse_dates=[time_column], chunksize=chunksize, encoding=\"latin-1\", sep=\";\"):\n",
      "/tmp/ipykernel_360155/227377149.py:22: DtypeWarning: Columns (8) have mixed types. Specify dtype option on import or set low_memory=False.\n",
      "  for chunk in pd.read_csv(input_file, parse_dates=[time_column], chunksize=chunksize, encoding=\"latin-1\", sep=\";\"):\n",
      "/tmp/ipykernel_360155/227377149.py:22: DtypeWarning: Columns (5,6) have mixed types. Specify dtype option on import or set low_memory=False.\n",
      "  for chunk in pd.read_csv(input_file, parse_dates=[time_column], chunksize=chunksize, encoding=\"latin-1\", sep=\";\"):\n",
      "/tmp/ipykernel_360155/227377149.py:22: DtypeWarning: Columns (6) have mixed types. Specify dtype option on import or set low_memory=False.\n",
      "  for chunk in pd.read_csv(input_file, parse_dates=[time_column], chunksize=chunksize, encoding=\"latin-1\", sep=\";\"):\n"
     ]
    },
    {
     "name": "stdout",
     "output_type": "stream",
     "text": [
      "Filtered data saved to covid-es.csv\n"
     ]
    }
   ],
   "source": [
    "\n",
    "def filter_csv_by_time_period(input_file, output_file, time_column, start_time, end_time, chunksize=100000):\n",
    "    \"\"\"\n",
    "    Filters a massive CSV file for rows within a specified time period.\n",
    "    \n",
    "    Parameters:\n",
    "        input_file (str): Path to the input CSV file\n",
    "        output_file (str): Path to save the filtered CSV\n",
    "        time_column (str): Name of the column containing timestamps\n",
    "        start_time (str): Start time in format matching your CSV (e.g., '2023-01-01')\n",
    "        end_time (str): End time in format matching your CSV (e.g., '2023-01-31')\n",
    "        chunksize (int): Number of rows to process at a time (adjust based on memory)\n",
    "    \"\"\"\n",
    "    \n",
    "    # Convert string times to datetime objects for comparison\n",
    "    start_dt = pd.to_datetime(start_time)\n",
    "    end_dt = pd.to_datetime(end_time)\n",
    "    \n",
    "    # Initialize a list to hold filtered chunks\n",
    "    filtered_chunks = []\n",
    "    \n",
    "    # Read the CSV in chunks\n",
    "    for chunk in pd.read_csv(input_file, parse_dates=[time_column], chunksize=chunksize, encoding=\"latin-1\", sep=\";\"):\n",
    "        # Filter the current chunk\n",
    "        mask = (chunk[time_column] >= start_dt) & (chunk[time_column] <= end_dt)\n",
    "        filtered_chunk = chunk.loc[mask]\n",
    "        \n",
    "        # Append to our list of filtered chunks\n",
    "        if not filtered_chunk.empty:\n",
    "            filtered_chunks.append(filtered_chunk)\n",
    "    \n",
    "    # Combine all filtered chunks and save to CSV\n",
    "    if filtered_chunks:\n",
    "        pd.concat(filtered_chunks).to_csv(output_file, index=False)\n",
    "        print(f\"Filtered data saved to {output_file}\")\n",
    "    else:\n",
    "        print(\"No data found within the specified time period.\")\n",
    "\n",
    "# Example usage\n",
    "if __name__ == \"__main__\":\n",
    "    input_csv = \"MICRODADOS.csv\"          # Replace with your input file\n",
    "    output_csv = \"covid-es.csv\"      # Replace with your output file\n",
    "    time_col = \"DataNotificacao\"                # Replace with your time column name\n",
    "    start = \"2020-01-01 00:00:00\"        # Replace with your start time\n",
    "    end = \"2021-01-31 23:59:59\"          # Replace with your end time\n",
    "    \n",
    "    filter_csv_by_time_period(input_csv, output_csv, time_col, start, end)"
   ]
  },
  {
   "cell_type": "code",
   "execution_count": null,
   "id": "d5465f78-5309-48a4-b85e-4f5614c3363b",
   "metadata": {},
   "outputs": [],
   "source": []
  }
 ],
 "metadata": {
  "kernelspec": {
   "display_name": "Python 3 (ipykernel)",
   "language": "python",
   "name": "python3"
  },
  "language_info": {
   "codemirror_mode": {
    "name": "ipython",
    "version": 3
   },
   "file_extension": ".py",
   "mimetype": "text/x-python",
   "name": "python",
   "nbconvert_exporter": "python",
   "pygments_lexer": "ipython3",
   "version": "3.13.2"
  }
 },
 "nbformat": 4,
 "nbformat_minor": 5
}
